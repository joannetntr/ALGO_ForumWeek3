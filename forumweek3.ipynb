{
 "cells": [
  {
   "cell_type": "code",
   "execution_count": null,
   "id": "9c69765e",
   "metadata": {},
   "outputs": [],
   "source": [
    "# 1\n",
    "def findArea(r):\n",
    "    phi = 22 / 7\n",
    "    return phi*r*r\n",
    "\n",
    "r = int(input('Input radius : '))\n",
    "print(findArea(r))"
   ]
  },
  {
   "cell_type": "code",
   "execution_count": null,
   "id": "8bc4dab5",
   "metadata": {},
   "outputs": [],
   "source": [
    "# 2\n",
    "first = input('First Name : ')\n",
    "last = input('Last Name : ')\n",
    "print(last, first)"
   ]
  },
  {
   "cell_type": "code",
   "execution_count": null,
   "id": "31c9e0bd",
   "metadata": {},
   "outputs": [],
   "source": [
    "# 3\n",
    "color_list = [\"Red\",\"Green\",\"White\",\"Black\"]\n",
    "print('First color :', color_list[0])\n",
    "print('Last color :', color_list[-1])"
   ]
  },
  {
   "cell_type": "code",
   "execution_count": null,
   "id": "c772c68d",
   "metadata": {},
   "outputs": [
    {
     "name": "stdout",
     "output_type": "stream",
     "text": [
      "Input n : 6\n",
      "Result : 258\n"
     ]
    }
   ],
   "source": [
    "# 4\n",
    "def findN(n):\n",
    "    return (n + n*n + n*n*n)\n",
    "\n",
    "n = int(input('Input n : '))\n",
    "print('Result :', findN(n))"
   ]
  },
  {
   "cell_type": "code",
   "execution_count": null,
   "id": "a4940197",
   "metadata": {},
   "outputs": [
    {
     "name": "stdout",
     "output_type": "stream",
     "text": [
      "Volume of sphere with r = 6 : 905.142857142857\n"
     ]
    }
   ],
   "source": [
    "# 5\n",
    "def findVolume(r):\n",
    "    phi = 22/7\n",
    "    return ((4 / 3) * phi * r * r * r)\n",
    "\n",
    "\n",
    "print('Volume of sphere with r = 6 :', findVolume(6))"
   ]
  },
  {
   "cell_type": "code",
   "execution_count": null,
   "id": "aea99202",
   "metadata": {},
   "outputs": [],
   "source": [
    "# 6\n",
    "def findDiff(n, m):\n",
    "    diff = abs(n-m)\n",
    "    if(diff>n):\n",
    "      return diff*2\n",
    "    return diff\n",
    "\n",
    "m = int(input('Input number : '))\n",
    "print(findDiff(17, m))"
   ]
  },
  {
   "cell_type": "code",
   "execution_count": null,
   "id": "3067c79b",
   "metadata": {},
   "outputs": [],
   "source": [
    "# 7\n",
    "def sum(a, b, c):\n",
    "    sum = a + b + c\n",
    "\n",
    "    if a == b == c:\n",
    "        sum *= 3\n",
    "    return sum\n",
    "\n",
    "\n",
    "A = int(input('Input A : '))\n",
    "B = int(input('Input B : '))\n",
    "C = int(input('Input C : '))\n",
    "print('result :', sum(A, B, C))"
   ]
  },
  {
   "cell_type": "code",
   "execution_count": null,
   "id": "a0db770d",
   "metadata": {},
   "outputs": [],
   "source": [
    "# 8\n",
    "def check(N):\n",
    "    if N % 2 == 0:\n",
    "        print(N, 'is Even')\n",
    "    else:\n",
    "        print(N, 'is Odd')\n",
    "\n",
    "n = int(input('Input number : '))\n",
    "check(n)"
   ]
  },
  {
   "cell_type": "code",
   "execution_count": null,
   "id": "803ea57d",
   "metadata": {},
   "outputs": [],
   "source": [
    "# 9\n",
    "def vowel(C):\n",
    "    vowel_char = ['a', 'i', 'u', 'e', 'o','A', 'I', 'U', 'E', 'O']\n",
    "    if C in vowel_char:\n",
    "      print(C, 'is vowel')\n",
    "    else:\n",
    "      print(C, 'is not vowel')\n",
    "\n",
    "c = input('Input letter : ')\n",
    "vowel(c)"
   ]
  },
  {
   "cell_type": "code",
   "execution_count": 13,
   "id": "8213f184",
   "metadata": {},
   "outputs": [],
   "source": [
    "# 10\n",
    "def check_group(A, n):\n",
    "      if n in A:\n",
    "            print(n, 'is in A')\n",
    "      else:\n",
    "            print(n, 'is not in A')\n",
    "\n",
    "list = []\n",
    "member = int(input('Input total of group member : '))\n",
    "for _ in range(member):\n",
    "      mem = int(input())\n",
    "      list.append(mem)\n",
    "\n",
    "n = int(input('Input random number : '))\n",
    "check_group(list, n)"
   ]
  },
  {
   "cell_type": "code",
   "execution_count": 14,
   "id": "b7bf9fe3",
   "metadata": {},
   "outputs": [],
   "source": [
    "# 11\n",
    "def histogram(items):\n",
    "    for n in items:\n",
    "        output = ''\n",
    "        times = n\n",
    "        while(times > 0):\n",
    "            output += '*'\n",
    "            times = times - 1\n",
    "        print(output)\n",
    "\n",
    "\n",
    "histogram([7, 11, 5, 9])\n"
   ]
  },
  {
   "cell_type": "code",
   "execution_count": 15,
   "id": "2b206270",
   "metadata": {},
   "outputs": [],
   "source": [
    "# 12\n",
    "def check_even(N):\n",
    "    if N % 2 == 0:\n",
    "        return True\n",
    "    return False\n",
    "\n",
    "\n",
    "numbers = [\n",
    "    386, 462, 47, 418, 907, 344, 236, 375, 823, 566, 597, 978, 328, 615, 953, 345,\n",
    "    399, 162, 758, 219, 918, 237, 412, 566, 826, 248, 866, 950, 626, 949, 687, 217,\n",
    "    815, 67, 104, 58, 512, 24, 892, 894, 767, 553, 81, 379, 843, 831, 445, 742, 717,\n",
    "    958, 743, 527]\n",
    "    \n",
    "even = []\n",
    "for i in numbers:\n",
    "    if check_even(i):\n",
    "        even.append(i)\n",
    "print(even)"
   ]
  },
  {
   "cell_type": "code",
   "execution_count": null,
   "id": "1572e478",
   "metadata": {},
   "outputs": [],
   "source": [
    "# 14\n",
    "x = int(input(\"Enter a positive integer:\" ))\n",
    "y= int(input(\"Enter a second positive integer: \"))\n",
    "\n",
    "if x>y:\n",
    "    bigger = x\n",
    "\n",
    "else: \n",
    "    bigger = y\n",
    "\n",
    "while True:\n",
    "    if bigger%x==0 and bigger%y==0:\n",
    "        print(\"The LCM of\",x,\"and\",y,\"is\",bigger)\n",
    "        break\n",
    "    else:\n",
    "        bigger=bigger+1"
   ]
  },
  {
   "cell_type": "code",
   "execution_count": null,
   "id": "0909d252",
   "metadata": {},
   "outputs": [],
   "source": [
    "# 15\n",
    "a=int(input(\"Enter the first value: \"))\n",
    "b=int(input(\"Enter the second value: \"))\n",
    "c=int(input(\"Enter the third value: \"))\n",
    "\n",
    "if a == b or b == c or a == c:\n",
    "    print(0)\n",
    "else:\n",
    "    print(a+b+c)"
   ]
  },
  {
   "cell_type": "code",
   "execution_count": null,
   "id": "85c6614c",
   "metadata": {},
   "outputs": [],
   "source": [
    "#16\n",
    "x= int(input(\"Enter a number: \"))\n",
    "y= int(input(\"Enter a number: \"))\n",
    "\n",
    "xy= (x+y) ** 2\n",
    "print (\"(\",x,\"+\",y,\") * (\",x,\"+\",y,\")=\", xy)"
   ]
  },
  {
   "cell_type": "code",
   "execution_count": null,
   "id": "5ede7c47",
   "metadata": {},
   "outputs": [],
   "source": [
    "#17\n",
    "principal = eval(input(\"Enter the principal amount: \"))\n",
    "interest = eval(input(\"Enter the interest rate: \"))\n",
    "years = eval(input(\"Enter the amount of years: \"))\n",
    "print(f'amt = {principal}, int = {interest}, years = {years}')\n",
    "\n",
    "future_value = principal * (1+(interest/100)) ** years\n",
    "\n",
    "print(\"The future value is {future_value:.2f}\")\n"
   ]
  },
  {
   "cell_type": "code",
   "execution_count": null,
   "id": "c76e4367",
   "metadata": {},
   "outputs": [],
   "source": [
    "#18\n",
    "import math\n",
    "\n",
    "x1, y1 = eval(input(\"Enter the x-coordinate and y-coordinate for point1: \"))\n",
    "x2, y2 = eval(input(\"Enter the x-coordinate and y-coordinate for point2: \"))\n",
    "distance = math.sqrt((x2-x1)) ** 2 (y2-y1) ** 2\n",
    "\n",
    "print('The distance between the two points ({x1}'), {y1})"
   ]
  },
  {
   "cell_type": "code",
   "execution_count": null,
   "id": "a9294bc7",
   "metadata": {},
   "outputs": [],
   "source": [
    "#19\n",
    "positive_int = int(input(\"Input a positive integer: \"))\n",
    "total = 0 \n",
    "\n",
    "for i in range(1, positive_int+1):\n",
    "    total +=1\n",
    "\n",
    "print(\"The sum of the first positive integer is {total}\")\n"
   ]
  },
  {
   "cell_type": "code",
   "execution_count": null,
   "id": "39594353",
   "metadata": {},
   "outputs": [],
   "source": [
    "#20\n",
    "print(\"Enter your height.\")\n",
    "\n",
    "feet = int(input(\"Feet: \"))\n",
    "inches = int(input(\"Inches: \"))\n",
    "\n",
    "heightInCm = feet*12*2.54 + inches*2.54\n",
    "\n",
    "print(\"Your Height is {heightInCm} cm\")"
   ]
  },
  {
   "cell_type": "code",
   "execution_count": null,
   "id": "90bc9389",
   "metadata": {},
   "outputs": [],
   "source": [
    "#21\n",
    "import math\n",
    "a = eval(input(\"please input the lenght of the first side:\"))\n",
    "b = eval(input(\"please input the lenght of the second side:\"))\n",
    "hyp = math.sqrt((a*2)+(b*2))\n",
    "print(\"the hypotenuse is\", round(hyp,2))"
   ]
  },
  {
   "cell_type": "code",
   "execution_count": null,
   "id": "fb16f78e",
   "metadata": {},
   "outputs": [],
   "source": [
    "#22\n",
    "weight = eval(input(\"please enter your weight in kg:\"))\n",
    "height = eval(input(\"please enter your height in m\"))\n",
    "bmi = weight / (height**2)\n",
    "print(\"your bmi is\", round(bmi,2))"
   ]
  },
  {
   "cell_type": "code",
   "execution_count": null,
   "id": "67e17cb2",
   "metadata": {},
   "outputs": [],
   "source": [
    "#23\n",
    "weight = eval(input(\"please enter your weight in kg:\"))\n",
    "height = eval(input(\"please enter your height in m\"))\n",
    "bmi = weight / (height**2)\n",
    "print(\"your bmi is\", round(bmi,2))"
   ]
  },
  {
   "cell_type": "code",
   "execution_count": null,
   "id": "c3f25e90",
   "metadata": {},
   "outputs": [],
   "source": [
    "#24\n",
    "num_list = []\n",
    "for i in range(2000,3200):\n",
    "    if i % 7 == 0 and i % 5 == 0:\n",
    "        num_list.append(str(i))\n",
    "print(','.join(num_list))"
   ]
  }
 ],
 "metadata": {
  "kernelspec": {
   "display_name": "Python 3.10.7 64-bit",
   "language": "python",
   "name": "python3"
  },
  "language_info": {
   "codemirror_mode": {
    "name": "ipython",
    "version": 3
   },
   "file_extension": ".py",
   "mimetype": "text/x-python",
   "name": "python",
   "nbconvert_exporter": "python",
   "pygments_lexer": "ipython3",
   "version": "3.10.7"
  },
  "vscode": {
   "interpreter": {
    "hash": "db3c2a126bedc8808ef4fec36c675c78fd00c1f39d40bd1d93f47bc6c1bcbfd6"
   }
  }
 },
 "nbformat": 4,
 "nbformat_minor": 5
}
